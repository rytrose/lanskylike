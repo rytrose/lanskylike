{
 "cells": [
  {
   "cell_type": "markdown",
   "metadata": {},
   "source": [
    "## Hints to \"How He Did That\"\n",
    "He wrote a lot about specifically what to do in [this book](https://drive.google.com/file/d/1l5324Nlqy_5r4y9UWtDCywMCCQLsZwfr/view?usp=sharing), (PDF pg. 6-8)\n",
    "\n",
    "He also cites [this paper](https://drive.google.com/file/d/1REwUE5Uvv-ArSxuzUMIXj4EkB0-kovIs/view?usp=sharing) for how to implement the excitation function."
   ]
  },
  {
   "cell_type": "code",
   "execution_count": 69,
   "metadata": {
    "collapsed": true
   },
   "outputs": [],
   "source": [
    "%matplotlib inline\n",
    "from audiolazy import *\n",
    "from librosa import load\n",
    "from librosa.core.pitch import piptrack\n",
    "import librosa\n",
    "import matplotlib.pyplot as plt\n",
    "import math\n",
    "import numpy as np\n",
    "import pretty_midi\n",
    "\n",
    "# Bless https://ptolemy.berkeley.edu/eecs20/sidebars/hertz/index.html\n",
    "def freq_to_rad(freq, sr):\n",
    "    return (freq / sr) * (2 * pi)\n",
    "\n",
    "def pulse_train(freq, sr, samples):\n",
    "    period = 1 / freq # period in seconds\n",
    "    dur = period * sr\n",
    "    pulse_period = impulse(dur=dur)\n",
    "\n",
    "    i = 0\n",
    "    out = Stream([])\n",
    "    while i < samples:\n",
    "        if samples - i < dur:\n",
    "            out.append(pulse_period.peek(samples - i))\n",
    "            i = samples\n",
    "        else:\n",
    "            out.append(pulse_period.peek(dur))\n",
    "            i += dur\n",
    "            \n",
    "    return out\n",
    "\n",
    "def excitation(rad, samples):\n",
    "    out = []\n",
    "    \n",
    "    if rad == 0.0:\n",
    "        return white_noise(dur=samples).take(samples)\n",
    "    \n",
    "    N = int(pi // rad)\n",
    "    \n",
    "    d_i = 0\n",
    "    for i in range(samples):\n",
    "        denominator = sin_table[d_i]\n",
    "        \n",
    "        n_i = (((2 * N) + 1) * d_i) % DEFAULT_TABLE_SIZE\n",
    "        numerator = sin_table[n_i]\n",
    "        \n",
    "        new_d_i = d_i + (((rad / 2) * DEFAULT_TABLE_SIZE) / (2 * pi))\n",
    "        d_i = int(new_d_i) % DEFAULT_TABLE_SIZE\n",
    "        \n",
    "        if denominator == 0:\n",
    "            out.append(1)\n",
    "        else:\n",
    "            out.append(numerator / denominator)\n",
    "            \n",
    "    return out\n",
    "\n",
    "def get_fundamental(freqs, mags, t):\n",
    "    if not t < freqs.shape[1]:\n",
    "        return 0\n",
    "    return freqs[mags[:, t].argmax(), t]\n",
    "\n",
    "def miditofreq(midi): \n",
    "    return 2**((midi-69)/12.)*440\n",
    "\n",
    "def mult(length, stretchFactor): \n",
    "    return int(length * stretchFactor)\n",
    "\n",
    "def stretch(block, sr, stretchFactor):\n",
    "    ori_arr = np.array(block)\n",
    "    str_arr = librosa.core.resample(ori_arr, sr, sr * stretchFactor)\n",
    "    return str_arr"
   ]
  },
  {
   "cell_type": "markdown",
   "metadata": {},
   "source": [
    "## Analysis"
   ]
  },
  {
   "cell_type": "code",
   "execution_count": 70,
   "metadata": {
    "collapsed": true
   },
   "outputs": [],
   "source": [
    "analyses = {}\n",
    "\n",
    "files = [\"nuttiness.wav\"]\n",
    "BLK_SIZE = 441\n",
    "\n",
    "def analyze_file(filename):\n",
    "    sample = WavStream(filename)\n",
    "    y, sr = load(filename, sr=sample.rate)\n",
    "\n",
    "    freqs, mags = piptrack(y=y, sr=sr, fmin=50, fmax=300, hop_length=BLK_SIZE // 2)\n",
    "\n",
    "    original = []\n",
    "    coeffs = []\n",
    "    resids = []\n",
    "    resids_rms = []\n",
    "\n",
    "    sample = list(sample)\n",
    "    sample_len = len(sample) \n",
    "    num_blocks = 0\n",
    "    i = 0\n",
    "\n",
    "    while i < sample_len:\n",
    "        if sample_len - i > BLK_SIZE:\n",
    "            blk = sample[i:i + BLK_SIZE]\n",
    "        else:\n",
    "            blk = sample[i:]\n",
    "\n",
    "        try:\n",
    "            analysis_filt = lpc.ncovar(blk, 5)\n",
    "        except:\n",
    "            analysis_filt = lpc.covar(blk, 5)\n",
    "\n",
    "        coeffs.append(analysis_filt)\n",
    "        residual = analysis_filt(blk)\n",
    "        resids.append(residual.peek(len(blk)))\n",
    "        resids_rms.append(list(envelope(Stream(residual.peek(len(blk))))))\n",
    "        synth_filt = 1 / analysis_filt\n",
    "        amplified_blk = synth_filt(Stream(residual))\n",
    "        original += amplified_blk.peek(len(blk))\n",
    "\n",
    "        i += len(blk)\n",
    "        num_blocks += 1\n",
    "        \n",
    "    analyses[filename] = {}\n",
    "    analyses[filename][\"original\"] = original\n",
    "    analyses[filename][\"coeffs\"] = coeffs\n",
    "    analyses[filename][\"resids\"] = resids\n",
    "    analyses[filename][\"resids_rms\"] = resids_rms\n",
    "    analyses[filename][\"num_blocks\"] = num_blocks\n",
    "    analyses[filename][\"sr\"] = sr\n",
    "    \n",
    "    with AudioIO(True) as player: # True means \"wait for all sounds to stop\"\n",
    "        player.play(original, rate=sr, channels=2)\n",
    "        \n",
    "for file in files:\n",
    "    analyze_file(file)"
   ]
  },
  {
   "cell_type": "markdown",
   "metadata": {},
   "source": [
    "## Synthesis"
   ]
  },
  {
   "cell_type": "code",
   "execution_count": 109,
   "metadata": {
    "collapsed": true
   },
   "outputs": [],
   "source": [
    "def get_analysis(file_id):\n",
    "    return analyses[file_id][\"original\"], analyses[file_id][\"coeffs\"], analyses[file_id][\"resids\"], analyses[file_id][\"resids_rms\"], analyses[file_id][\"num_blocks\"], analyses[file_id][\"sr\"]\n",
    "\n",
    "\n",
    "def find_stretch_factor(file_id, noteLength, bpm):\n",
    "    original, coeffs, resids, resids_rms, num_blocks, sr = get_analysis(file_id)\n",
    "    return (noteLength * 4 * 60/bpm) * sr / len(original)\n",
    "\n",
    "def make_note(f0, file_id, noteLength, bpm):\n",
    "    stretchFactor = find_stretch_factor(file_id, noteLength, bpm)\n",
    "    original, coeffs, resids, resids_rms, num_blocks, sr = get_analysis(file_id)\n",
    "    new_f0 = miditofreq(f0)\n",
    "    excit = Stream(excitation(freq_to_rad(new_f0, sr), mult(len(original), stretchFactor) ))\n",
    "    final = []\n",
    "    \n",
    "    i = 0\n",
    "    while i < num_blocks - 1:        \n",
    "        filt = coeffs[i]\n",
    "        synth_filt = 1 / filt\n",
    "        excitation_pulse = excit.take(mult(BLK_SIZE, stretchFactor))\n",
    "        stretched_resid = stretch(resids[i], sr, stretchFactor)\n",
    "        excitation_pulse = [((0.05 * ex) + (0.95 * r)) for ex, r in zip(excitation_pulse, stretched_resid)]\n",
    "        excitation_signal = [pulse * rms for pulse, rms in zip(excitation_pulse, stretch(resids_rms[i], sr, stretchFactor))]\n",
    "        amplified_blk = list(synth_filt(excitation_signal))\n",
    "        final += amplified_blk\n",
    "\n",
    "        i += 1\n",
    "        \n",
    "    return final\n",
    "\n",
    "    \n",
    "def make_silence(noteLength, bpm, sr):\n",
    "#     print(noteLength, bpm, sr)\n",
    "    return [0] * int((noteLength * 4 * 60/bpm) * sr)"
   ]
  },
  {
   "cell_type": "code",
   "execution_count": 110,
   "metadata": {},
   "outputs": [],
   "source": [
    "def get_tempo(pm_obj, t=0.0):\n",
    "    \"\"\"\n",
    "    Gets the tempo of the MIDI file.\n",
    "    :param t: time at which to get the tempo\n",
    "    :return: the tempo of the MIDI file at time t in seconds per beat\n",
    "    \"\"\"\n",
    "    tempo_change_times, tempi = pm_obj.get_tempo_changes()\n",
    "\n",
    "    if t < 0:\n",
    "        print(\"Unable to get tempo at time %f\" % t)\n",
    "        return\n",
    "\n",
    "    for i in range(len(tempo_change_times)):\n",
    "        tempo_change_time = tempo_change_times[i]\n",
    "        tempo = tempi[i]\n",
    "\n",
    "    # Look ahead for next tempo change\n",
    "    if i < len(tempo_change_times) - 1:\n",
    "        if t >= tempo_change_time and t < tempo_change_times[i + 1]:\n",
    "            return 1 / (tempo / 60)\n",
    "    # If this is the last tempo, return it\n",
    "    else:\n",
    "        return 1 / (tempo / 60)\n",
    "\n",
    "\n",
    "def get_buffer_for_midi_file(midi_file_name, sound_file_id, bpm):\n",
    "    original, coeffs, resids, resids_rms, num_blocks, sr = get_analysis(sound_file_id)\n",
    "    midi_data = pretty_midi.PrettyMIDI(midi_file_name)\n",
    "    tempo_scale = get_tempo(midi_data)\n",
    "    track_buffer = []\n",
    "    position = 0\n",
    "    for instrument in midi_data.instruments:\n",
    "        for note in instrument.notes:\n",
    "            new_start = note.start/tempo_scale\n",
    "            new_end = note.end/tempo_scale\n",
    "            if new_start > position:\n",
    "                track_buffer += make_silence(new_start-position, bpm, sr)\n",
    "            track_buffer += make_note(note.pitch, sound_file_id, new_end-new_start, bpm)\n",
    "            position = new_end\n",
    "    return track_buffer\n",
    "\n",
    "trak=get_buffer_for_midi_file(\"testmidi.mid\", \"nuttiness.wav\", 120)\n",
    "                "
   ]
  },
  {
   "cell_type": "markdown",
   "metadata": {},
   "source": [
    "## LENGTH CALCULATIONS ARE STILL a tad BUGGY"
   ]
  },
  {
   "cell_type": "code",
   "execution_count": 118,
   "metadata": {},
   "outputs": [
    {
     "name": "stdout",
     "output_type": "stream",
     "text": [
      "87394\n",
      "(28908, 29106.0, -198.0, 243.0, 29106.0)\n",
      "(29106, 29106.0)\n",
      "(0.33304345836098587, 0.33304345836098587)\n"
     ]
    }
   ],
   "source": [
    "noteLen = 0.33\n",
    "BPM = 120\n",
    "file_id = \"nuttiness.wav\"\n",
    "original, coeffs, resids, resids_rms, num_blocks, sr = get_analysis(file_id)\n",
    "n_samp = sr * noteLen * 4 * 60/BPM\n",
    "trak = make_note(60, file_id, noteLen, BPM)\n",
    "\n",
    "\n",
    "print(len(original))\n",
    "print(len(trak), n_samp, len(trak) - n_samp, (len(trak) - n_samp)%441, floor(n_samp/441)*441)\n",
    "print(len(make_silence(noteLen, BPM, sr)), n_samp)\n",
    "print(find_stretch_factor(file_id, noteLen, BPM), n_samp*1.0/len(original))"
   ]
  },
  {
   "cell_type": "markdown",
   "metadata": {},
   "source": [
    "## Composition"
   ]
  },
  {
   "cell_type": "code",
   "execution_count": 12,
   "metadata": {
    "collapsed": true
   },
   "outputs": [],
   "source": [
    "def save(name, audio):\n",
    "    librosa.output.write_wav(name, np.array(audio).reshape(-1, 2).transpose(), 44100)\n",
    "\n"
   ]
  }
 ],
 "metadata": {
  "kernelspec": {
   "display_name": "Python 3",
   "language": "python",
   "name": "python3"
  },
  "language_info": {
   "codemirror_mode": {
    "name": "ipython",
    "version": 2
   },
   "file_extension": ".py",
   "mimetype": "text/x-python",
   "name": "python",
   "nbconvert_exporter": "python",
   "pygments_lexer": "ipython2",
   "version": "2.7.15"
  }
 },
 "nbformat": 4,
 "nbformat_minor": 2
}
