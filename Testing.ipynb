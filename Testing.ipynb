{
 "cells": [
  {
   "cell_type": "markdown",
   "metadata": {},
   "source": [
    "## Hints to \"How He Did That\"\n",
    "He wrote a lot about specifically what to do in [this book](https://drive.google.com/file/d/1l5324Nlqy_5r4y9UWtDCywMCCQLsZwfr/view?usp=sharing), (PDF pg. 6-8)\n",
    "\n",
    "He also cites [this paper](https://drive.google.com/file/d/1REwUE5Uvv-ArSxuzUMIXj4EkB0-kovIs/view?usp=sharing) for how to implement the excitation function."
   ]
  },
  {
   "cell_type": "code",
   "execution_count": 8,
   "metadata": {
    "collapsed": true
   },
   "outputs": [],
   "source": [
    "%matplotlib inline\n",
    "from audiolazy import *\n",
    "from librosa import load\n",
    "from librosa.core.pitch import piptrack\n",
    "import librosa\n",
    "# from aubio import miditofreq\n",
    "import matplotlib.pyplot as plt\n",
    "import math\n",
    "import numpy as np\n",
    "\n",
    "# Bless https://ptolemy.berkeley.edu/eecs20/sidebars/hertz/index.html\n",
    "def freq_to_rad(freq, sr):\n",
    "    return (freq / sr) * (2 * pi)\n",
    "\n",
    "def pulse_train(freq, sr, samples):\n",
    "    period = 1 / freq # period in seconds\n",
    "    dur = period * sr\n",
    "    pulse_period = impulse(dur=dur)\n",
    "\n",
    "    i = 0\n",
    "    out = Stream([])\n",
    "    while i < samples:\n",
    "        if samples - i < dur:\n",
    "            out.append(pulse_period.peek(samples - i))\n",
    "            i = samples\n",
    "        else:\n",
    "            out.append(pulse_period.peek(dur))\n",
    "            i += dur\n",
    "            \n",
    "    return out\n",
    "\n",
    "def excitation(rad, samples):\n",
    "    out = []\n",
    "    \n",
    "    if rad == 0.0:\n",
    "        return white_noise(dur=samples).take(samples)\n",
    "    \n",
    "    N = int(pi // rad)\n",
    "    \n",
    "    d_i = 0\n",
    "    for i in range(samples):\n",
    "        denominator = sin_table[d_i]\n",
    "        \n",
    "        n_i = (((2 * N) + 1) * d_i) % DEFAULT_TABLE_SIZE\n",
    "        numerator = sin_table[n_i]\n",
    "        \n",
    "        new_d_i = d_i + (((rad / 2) * DEFAULT_TABLE_SIZE) / (2 * pi))\n",
    "        d_i = int(new_d_i) % DEFAULT_TABLE_SIZE\n",
    "        \n",
    "        if denominator == 0:\n",
    "            out.append(1)\n",
    "        else:\n",
    "            out.append(numerator / denominator)\n",
    "            \n",
    "    return out\n",
    "\n",
    "def get_fundamental(freqs, mags, t):\n",
    "    if not t < freqs.shape[1]:\n",
    "        return 0\n",
    "    return freqs[mags[:, t].argmax(), t]\n",
    "\n",
    "def miditofreq(midi): \n",
    "    return 2**((midi-69)/12.)*440\n",
    "\n",
    "def mult(length, stretchFactor): \n",
    "    return int(length * stretchFactor)\n",
    "\n",
    "def stretch(block, sr, stretchFactor):\n",
    "    ori_arr = np.array(block)\n",
    "    str_arr = librosa.core.resample(ori_arr, sr, sr * stretchFactor)\n",
    "    return str_arr"
   ]
  },
  {
   "cell_type": "markdown",
   "metadata": {},
   "source": [
    "## Analysis"
   ]
  },
  {
   "cell_type": "code",
   "execution_count": 22,
   "metadata": {},
   "outputs": [],
   "source": [
    "analyses = {}\n",
    "\n",
    "files = [\"nuttiness.wav\"]\n",
    "BLK_SIZE = 441\n",
    "\n",
    "def analyze_file(filename):\n",
    "    sample = WavStream(filename)\n",
    "    y, sr = load(filename, sr=sample.rate)\n",
    "\n",
    "    freqs, mags = piptrack(y=y, sr=sr, fmin=50, fmax=300, hop_length=BLK_SIZE // 2)\n",
    "\n",
    "    original = []\n",
    "    coeffs = []\n",
    "    resids = []\n",
    "    resids_rms = []\n",
    "\n",
    "    sample = list(sample)\n",
    "    sample_len = len(sample) \n",
    "    num_blocks = 0\n",
    "    i = 0\n",
    "\n",
    "    while i < sample_len:\n",
    "        if sample_len - i > BLK_SIZE:\n",
    "            blk = sample[i:i + BLK_SIZE]\n",
    "        else:\n",
    "            blk = sample[i:]\n",
    "\n",
    "        try:\n",
    "            analysis_filt = lpc.ncovar(blk, 5)\n",
    "        except:\n",
    "            analysis_filt = lpc.covar(blk, 5)\n",
    "\n",
    "        coeffs.append(analysis_filt)\n",
    "        residual = analysis_filt(blk)\n",
    "        resids.append(residual.peek(len(blk)))\n",
    "        resids_rms.append(list(envelope(Stream(residual.peek(len(blk))))))\n",
    "        synth_filt = 1 / analysis_filt\n",
    "        amplified_blk = synth_filt(Stream(residual))\n",
    "        original += amplified_blk.peek(len(blk))\n",
    "\n",
    "        i += len(blk)\n",
    "        num_blocks += 1\n",
    "        \n",
    "    analyses[filename] = {}\n",
    "    analyses[filename][\"original\"] = original\n",
    "    analyses[filename][\"coeffs\"] = coeffs\n",
    "    analyses[filename][\"resids\"] = resids\n",
    "    analyses[filename][\"resids_rms\"] = resids_rms\n",
    "    analyses[filename][\"num_blocks\"] = num_blocks\n",
    "    analyses[filename][\"sr\"] = sr\n",
    "    \n",
    "    with AudioIO(True) as player: # True means \"wait for all sounds to stop\"\n",
    "        player.play(original, rate=sr, channels=2)\n",
    "        \n",
    "for file in files:\n",
    "    analyze_file(file)"
   ]
  },
  {
   "cell_type": "markdown",
   "metadata": {},
   "source": [
    "## Synthesis\n",
    "TODO: add a way to condition time stretch"
   ]
  },
  {
   "cell_type": "code",
   "execution_count": 25,
   "metadata": {},
   "outputs": [],
   "source": [
    "def get_analysis(file_id):\n",
    "    return analyses[file_id][\"original\"], analyses[file_id][\"coeffs\"], analyses[file_id][\"resids\"], analyses[file_id][\"resids_rms\"], analyses[file_id][\"num_blocks\"], analyses[file_id][\"sr\"]\n",
    "\n",
    "\n",
    "def make_note(f0, stretchFactor, file_id):\n",
    "    original, coeffs, resids, resids_rms, num_blocks, sr = get_analysis(file_id)\n",
    "    new_f0 = miditofreq(f0)\n",
    "    excit = Stream(excitation(freq_to_rad(new_f0, sr), mult(len(original), stretchFactor) ))\n",
    "    final = []\n",
    "    \n",
    "    i = 0\n",
    "    while i < num_blocks - 1:        \n",
    "        filt = coeffs[i]\n",
    "        synth_filt = 1 / filt\n",
    "        excitation_pulse = excit.take(mult(BLK_SIZE, stretchFactor))\n",
    "        stretched_resid = stretch(resids[i], stretchFactor)\n",
    "        excitation_pulse = [((0.05 * ex) + (0.95 * r)) for ex, r in zip(excitation_pulse, stretched_resid)]\n",
    "        excitation_signal = [pulse * rms for pulse, rms in zip(excitation_pulse, stretch(resids_rms[i], stretchFactor))]\n",
    "        amplified_blk = list(synth_filt(excitation_signal))\n",
    "        final += amplified_blk\n",
    "\n",
    "        i += 1\n",
    "        \n",
    "    return final"
   ]
  },
  {
   "cell_type": "code",
   "execution_count": 26,
   "metadata": {},
   "outputs": [
    {
     "ename": "TypeError",
     "evalue": "stretch() missing 1 required positional argument: 'stretchFactor'",
     "output_type": "error",
     "traceback": [
      "\u001b[0;31m---------------------------------------------------------------------------\u001b[0m",
      "\u001b[0;31mTypeError\u001b[0m                                 Traceback (most recent call last)",
      "\u001b[0;32m<ipython-input-26-56a29daeb413>\u001b[0m in \u001b[0;36m<module>\u001b[0;34m\u001b[0m\n\u001b[0;32m----> 1\u001b[0;31m \u001b[0mt\u001b[0m \u001b[0;34m=\u001b[0m \u001b[0mmake_note\u001b[0m\u001b[0;34m(\u001b[0m\u001b[0;36m64\u001b[0m\u001b[0;34m,\u001b[0m \u001b[0;36m1\u001b[0m\u001b[0;34m,\u001b[0m \u001b[0;34m\"nuttiness.wav\"\u001b[0m\u001b[0;34m)\u001b[0m\u001b[0;34m\u001b[0m\u001b[0;34m\u001b[0m\u001b[0m\n\u001b[0m",
      "\u001b[0;32m<ipython-input-25-6a3f38203d52>\u001b[0m in \u001b[0;36mmake_note\u001b[0;34m(f0, stretchFactor, file_id)\u001b[0m\n\u001b[1;32m     14\u001b[0m         \u001b[0msynth_filt\u001b[0m \u001b[0;34m=\u001b[0m \u001b[0;36m1\u001b[0m \u001b[0;34m/\u001b[0m \u001b[0mfilt\u001b[0m\u001b[0;34m\u001b[0m\u001b[0;34m\u001b[0m\u001b[0m\n\u001b[1;32m     15\u001b[0m         \u001b[0mexcitation_pulse\u001b[0m \u001b[0;34m=\u001b[0m \u001b[0mexcit\u001b[0m\u001b[0;34m.\u001b[0m\u001b[0mtake\u001b[0m\u001b[0;34m(\u001b[0m\u001b[0mmult\u001b[0m\u001b[0;34m(\u001b[0m\u001b[0mBLK_SIZE\u001b[0m\u001b[0;34m,\u001b[0m \u001b[0mstretchFactor\u001b[0m\u001b[0;34m)\u001b[0m\u001b[0;34m)\u001b[0m\u001b[0;34m\u001b[0m\u001b[0;34m\u001b[0m\u001b[0m\n\u001b[0;32m---> 16\u001b[0;31m         \u001b[0mstretched_resid\u001b[0m \u001b[0;34m=\u001b[0m \u001b[0mstretch\u001b[0m\u001b[0;34m(\u001b[0m\u001b[0mresids\u001b[0m\u001b[0;34m[\u001b[0m\u001b[0mi\u001b[0m\u001b[0;34m]\u001b[0m\u001b[0;34m,\u001b[0m \u001b[0mstretchFactor\u001b[0m\u001b[0;34m)\u001b[0m\u001b[0;34m\u001b[0m\u001b[0;34m\u001b[0m\u001b[0m\n\u001b[0m\u001b[1;32m     17\u001b[0m         \u001b[0mexcitation_pulse\u001b[0m \u001b[0;34m=\u001b[0m \u001b[0;34m[\u001b[0m\u001b[0;34m(\u001b[0m\u001b[0;34m(\u001b[0m\u001b[0;36m0.05\u001b[0m \u001b[0;34m*\u001b[0m \u001b[0mex\u001b[0m\u001b[0;34m)\u001b[0m \u001b[0;34m+\u001b[0m \u001b[0;34m(\u001b[0m\u001b[0;36m0.95\u001b[0m \u001b[0;34m*\u001b[0m \u001b[0mr\u001b[0m\u001b[0;34m)\u001b[0m\u001b[0;34m)\u001b[0m \u001b[0;32mfor\u001b[0m \u001b[0mex\u001b[0m\u001b[0;34m,\u001b[0m \u001b[0mr\u001b[0m \u001b[0;32min\u001b[0m \u001b[0mzip\u001b[0m\u001b[0;34m(\u001b[0m\u001b[0mexcitation_pulse\u001b[0m\u001b[0;34m,\u001b[0m \u001b[0mstretched_resid\u001b[0m\u001b[0;34m)\u001b[0m\u001b[0;34m]\u001b[0m\u001b[0;34m\u001b[0m\u001b[0;34m\u001b[0m\u001b[0m\n\u001b[1;32m     18\u001b[0m         \u001b[0mexcitation_signal\u001b[0m \u001b[0;34m=\u001b[0m \u001b[0;34m[\u001b[0m\u001b[0mpulse\u001b[0m \u001b[0;34m*\u001b[0m \u001b[0mrms\u001b[0m \u001b[0;32mfor\u001b[0m \u001b[0mpulse\u001b[0m\u001b[0;34m,\u001b[0m \u001b[0mrms\u001b[0m \u001b[0;32min\u001b[0m \u001b[0mzip\u001b[0m\u001b[0;34m(\u001b[0m\u001b[0mexcitation_pulse\u001b[0m\u001b[0;34m,\u001b[0m \u001b[0mstretch\u001b[0m\u001b[0;34m(\u001b[0m\u001b[0mresids_rms\u001b[0m\u001b[0;34m[\u001b[0m\u001b[0mi\u001b[0m\u001b[0;34m]\u001b[0m\u001b[0;34m,\u001b[0m \u001b[0mstretchFactor\u001b[0m\u001b[0;34m)\u001b[0m\u001b[0;34m)\u001b[0m\u001b[0;34m]\u001b[0m\u001b[0;34m\u001b[0m\u001b[0;34m\u001b[0m\u001b[0m\n",
      "\u001b[0;31mTypeError\u001b[0m: stretch() missing 1 required positional argument: 'stretchFactor'"
     ]
    }
   ],
   "source": [
    "t = make_note(64, 1, \"nuttiness.wav\")"
   ]
  },
  {
   "cell_type": "code",
   "execution_count": null,
   "metadata": {
    "collapsed": true
   },
   "outputs": [],
   "source": []
  }
 ],
 "metadata": {
  "kernelspec": {
   "display_name": "Python (musi-6003)",
   "language": "python",
   "name": "musi-6003"
  },
  "language_info": {
   "codemirror_mode": {
    "name": "ipython",
    "version": 3
   },
   "file_extension": ".py",
   "mimetype": "text/x-python",
   "name": "python",
   "nbconvert_exporter": "python",
   "pygments_lexer": "ipython3",
   "version": "3.7.1"
  }
 },
 "nbformat": 4,
 "nbformat_minor": 2
}
