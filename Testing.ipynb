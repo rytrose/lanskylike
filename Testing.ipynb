{
 "cells": [
  {
   "cell_type": "code",
   "execution_count": 54,
   "metadata": {},
   "outputs": [],
   "source": [
    "%matplotlib inline\n",
    "from audiolazy import *\n",
    "from librosa import load\n",
    "from librosa.core.pitch import piptrack\n",
    "import matplotlib.pyplot as plt\n",
    "import math\n",
    "\n",
    "# Bless https://ptolemy.berkeley.edu/eecs20/sidebars/hertz/index.html\n",
    "def freq_to_rad(freq, sr):\n",
    "    return (freq / sr) * (2 * pi)\n",
    "\n",
    "def pulse_train(freq, sr, samples):\n",
    "    period = 1 / freq # period in seconds\n",
    "    dur = period * sr\n",
    "    pulse_period = impulse(dur=dur)\n",
    "\n",
    "    i = 0\n",
    "    out = Stream([])\n",
    "    while i < samples:\n",
    "        if samples - i < dur:\n",
    "            out.append(pulse_period.peek(samples - i))\n",
    "            i = samples\n",
    "        else:\n",
    "            out.append(pulse_period.peek(dur))\n",
    "            i += dur\n",
    "            \n",
    "    return out\n",
    "\n",
    "def excitation(rad, samples):\n",
    "    out = []\n",
    "    \n",
    "    if rad == 0.0:\n",
    "        return white_noise(dur=samples).take(samples)\n",
    "    \n",
    "    N = int(pi // rad)\n",
    "    \n",
    "    d_i = 0\n",
    "    for i in range(samples):\n",
    "        denominator = sin_table[d_i]\n",
    "        \n",
    "        n_i = (((2 * N) + 1) * d_i) % DEFAULT_TABLE_SIZE\n",
    "        numerator = sin_table[n_i]\n",
    "        \n",
    "        new_d_i = d_i + (((rad / 2) * DEFAULT_TABLE_SIZE) / (2 * pi))\n",
    "        d_i = int(new_d_i) % DEFAULT_TABLE_SIZE\n",
    "        \n",
    "        if denominator == 0:\n",
    "            out.append(1)\n",
    "        else:\n",
    "            out.append(numerator / denominator)\n",
    "            \n",
    "    return out\n",
    "\n",
    "def get_fundamental(freqs, mags, t):\n",
    "    if not t < freqs.shape[1]:\n",
    "        return 0\n",
    "    return freqs[mags[:, t].argmax(), t]"
   ]
  },
  {
   "cell_type": "code",
   "execution_count": 77,
   "metadata": {},
   "outputs": [
    {
     "name": "stdout",
     "output_type": "stream",
     "text": [
      "Done\n"
     ]
    }
   ],
   "source": [
    "nuttiness = WavStream(\"nuttiness.wav\")\n",
    "y, sr = load(\"nuttiness.wav\", sr=nuttiness.rate)\n",
    "freqs, mags = piptrack(y=y, sr=sr, fmin=50, fmax=300, hop_length=200)\n",
    "\n",
    "BLK_SIZE = 400\n",
    "\n",
    "final = []\n",
    "coeffs = []\n",
    "resids = []\n",
    "resids_rms = []\n",
    "\n",
    "while True:\n",
    "    try:\n",
    "        blk = nuttiness.take(BLK_SIZE)\n",
    "    except Exception as e:\n",
    "        print(\"Done\")\n",
    "        break\n",
    "    analysis_filt = lpc.covar(blk, 5)\n",
    "    coeffs.append(analysis_filt)\n",
    "    residual = analysis_filt(blk)\n",
    "    resids.append(residual.peek(BLK_SIZE))\n",
    "    resids_rms.append(list(envelope(Stream(residual.peek(BLK_SIZE)))))\n",
    "    synth_filt = 1 / analysis_filt\n",
    "    amplified_blk = synth_filt(Stream(residual))\n",
    "    final += amplified_blk.peek(BLK_SIZE)\n",
    "\n",
    "with AudioIO(True) as player: # True means \"wait for all sounds to stop\"\n",
    "  player.play(final, rate=sr, channels=2)"
   ]
  },
  {
   "cell_type": "code",
   "execution_count": 78,
   "metadata": {},
   "outputs": [],
   "source": [
    "i = 0\n",
    "final = []\n",
    "while i < len(coeffs):\n",
    "    if i == len(resids) - 1:\n",
    "        break\n",
    "        \n",
    "    filt = coeffs[i]\n",
    "    synth_filt = 1 / filt\n",
    "#     amplified_blk = list(synth_filt(resids[i])) + list(synth_filt(resids[i+1]))\n",
    "    excitation_pulse = excitation(freq_to_rad(get_fundamental(freqs, mags, i), sr), BLK_SIZE)\n",
    "    excitation_signal = [pulse * rms for pulse, rms in zip(excitation_pulse, resids_rms[i])]\n",
    "    amplified_blk = list(synth_filt(excitation_signal))\n",
    "    final += amplified_blk\n",
    "    \n",
    "    i += 1\n",
    "    \n",
    "with AudioIO(True) as player: # True means \"wait for all sounds to stop\"\n",
    "  player.play(final, rate=sr, channels=2)"
   ]
  },
  {
   "cell_type": "code",
   "execution_count": null,
   "metadata": {
    "collapsed": true
   },
   "outputs": [],
   "source": []
  }
 ],
 "metadata": {
  "kernelspec": {
   "display_name": "Python (musi-6003)",
   "language": "python",
   "name": "musi-6003"
  },
  "language_info": {
   "codemirror_mode": {
    "name": "ipython",
    "version": 3
   },
   "file_extension": ".py",
   "mimetype": "text/x-python",
   "name": "python",
   "nbconvert_exporter": "python",
   "pygments_lexer": "ipython3",
   "version": "3.7.1"
  }
 },
 "nbformat": 4,
 "nbformat_minor": 2
}
